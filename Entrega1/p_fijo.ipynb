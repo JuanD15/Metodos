{
 "cells": [
  {
   "cell_type": "markdown",
   "metadata": {},
   "source": [
    "Crear algoritmo recursivo para el calculo en método numerico"
   ]
  },
  {
   "cell_type": "markdown",
   "metadata": {},
   "source": [
    "Ejemplo de un resultado"
   ]
  },
  {
   "cell_type": "code",
   "execution_count": 4,
   "metadata": {},
   "outputs": [
    {
     "name": "stdout",
     "output_type": "stream",
     "text": [
      "La solución aproximada es x = 0.567242\n"
     ]
    }
   ],
   "source": [
    "#import numpy as np\n",
    "import math as ma\n",
    "\n",
    "def punto_fijo(gx, a, ErrorFinal, iteramax=15):\n",
    "    i = 1\n",
    "    b = gx(a)\n",
    "    Eaprox = abs(b - a)\n",
    "    Erelat = abs(b - a)/a\n",
    "\n",
    "    while Erelat >= ErrorFinal and i <= iteramax:\n",
    "        a = b\n",
    "        b = gx(a)\n",
    "        tramo = abs(b - a)\n",
    "        i += 1\n",
    "\n",
    "    return b\n",
    "\n",
    "# Ejemplo de uso\n",
    "gx = lambda x: ma.exp(-x)\n",
    "a = 2\n",
    "ErrorFinal = 0.001\n",
    "resultado = punto_fijo(gx, a, ErrorFinal)\n",
    "print(f\"La solución aproximada es x = {resultado:.6f}\")\n"
   ]
  },
  {
   "cell_type": "markdown",
   "metadata": {},
   "source": [
    "Solución"
   ]
  },
  {
   "cell_type": "code",
   "execution_count": 10,
   "metadata": {},
   "outputs": [
    {
     "ename": "ValueError",
     "evalue": "could not convert string to float: ''",
     "output_type": "error",
     "traceback": [
      "\u001b[1;31m---------------------------------------------------------------------------\u001b[0m",
      "\u001b[1;31mValueError\u001b[0m                                Traceback (most recent call last)",
      "Cell \u001b[1;32mIn[10], line 47\u001b[0m\n\u001b[0;32m     44\u001b[0m         X0 \u001b[38;5;241m=\u001b[39m X1\n\u001b[0;32m     46\u001b[0m \u001b[38;5;28;01mwhile\u001b[39;00m(init):\n\u001b[1;32m---> 47\u001b[0m     option \u001b[38;5;241m=\u001b[39m \u001b[38;5;28;43mfloat\u001b[39;49m\u001b[43m(\u001b[49m\u001b[38;5;28;43minput\u001b[39;49m\u001b[43m(\u001b[49m\u001b[38;5;124;43m\"\u001b[39;49m\u001b[38;5;124;43mIngrese 1 si quiere usar limite por error\u001b[39;49m\u001b[38;5;130;43;01m\\n\u001b[39;49;00m\u001b[38;5;124;43mIngrese 0 si quiere usar limite por iteraciones:\u001b[39;49m\u001b[38;5;130;43;01m\\n\u001b[39;49;00m\u001b[38;5;124;43m\"\u001b[39;49m\u001b[43m)\u001b[49m\u001b[43m)\u001b[49m\n\u001b[0;32m     48\u001b[0m     \u001b[38;5;28;01mif\u001b[39;00m(option\u001b[38;5;241m==\u001b[39m\u001b[38;5;241m1\u001b[39m):\n\u001b[0;32m     49\u001b[0m         X0 \u001b[38;5;241m=\u001b[39m \u001b[38;5;28mfloat\u001b[39m(\u001b[38;5;28minput\u001b[39m(\u001b[38;5;124m\"\u001b[39m\u001b[38;5;124mIngrese el X0 para la funcion: \u001b[39m\u001b[38;5;124m\"\u001b[39m))\n",
      "\u001b[1;31mValueError\u001b[0m: could not convert string to float: ''"
     ]
    }
   ],
   "source": [
    "# Importacion de librerias necesarias\n",
    "import math as mat\n",
    "\n",
    "# Variables necesarias\n",
    "init = True\n",
    "X0 = 2.000\n",
    "imax = 20\n",
    "ErrStop = 0.001\n",
    "gx = lambda x: mat.sqrt((x + 5) / 2)\n",
    "\n",
    "#Metodo para carlcular el error relativo\n",
    "def ErrRel(Vante, Vactual):\n",
    "    return round(abs(Vactual - Vante)/Vante,3)\n",
    "\n",
    "#Metodo para calcular el error aproximado\n",
    "def ErrAprox(Vante, Vactual):\n",
    "    return round(abs(Vactual - Vante),3)\n",
    "#----------------------------------------------------------------\n",
    "#Calculo con limite de error\n",
    "def LimiErr(X0, ErrStop):\n",
    "    ErrApr =100\n",
    "    i = 0\n",
    "    #Fila inicial\n",
    "    #result = \"||  i   ||   Xi   ||   ErrAprox%   ||   ErrRel%   ||\\n\"\n",
    "    print(\"||  i   ||   Xi   ||   ErrAprox%   ||   ErrRel%   ||\\n\")\n",
    "    while(ErrApr > ErrStop):\n",
    "        X1 = round(gx(X0),3)\n",
    "        ErrApr = ErrAprox(X0, X1)\n",
    "        ErrRela = ErrRel(X0, X1)\n",
    "        print(\"||  \",i,\"  ||  \",X0,\"  ||  \",ErrApr,\"  ||  \",ErrRela,\"  ||\\n\")\n",
    "        X0 = X1\n",
    "        i+=1\n",
    "    #return result\n",
    "#----------------------------------------------------------------\n",
    "#Caclulo con Limite de iteraciones\n",
    "def LimitIteracion(X0, imax):\n",
    "    #Fila inicial\n",
    "    print(\"||  i   ||   Xi   ||   ErrAprox%   ||   ErrRel%   ||\")\n",
    "    for i in range(0, imax):\n",
    "        X1 = round(gx(X0),3)\n",
    "        ErrApr = ErrAprox(X0, X1)\n",
    "        ErrRela = ErrRel(X0, X1)\n",
    "        print(\"||  \",i,\"  ||  \",X0,\"  ||  \",ErrApr,\"  ||  \",ErrRela,\"  ||\")\n",
    "        X0 = X1\n",
    "\n",
    "while(init):\n",
    "    option = float(input(\"Ingrese 1 si quiere usar limite por error\\nIngrese 0 si quiere usar limite por iteraciones:\\n\"))\n",
    "    if(option==1):\n",
    "        X0 = float(input(\"Ingrese el X0 para la funcion: \"))\n",
    "        ErrStop = float(input(\"Ingrese el error que quiere usar como limite: \"))\n",
    "        print(LimiErr(X0, ErrStop))\n",
    "        init = False\n",
    "    elif(option==0):\n",
    "        X0 = float(input(\"Ingrese el X0 para la funcion: \"))\n",
    "        imax = int(input(\"Ingrese el numero maximo de iteraciones\"))\n",
    "        LimitIteracion(X0, imax)\n",
    "        init = False"
   ]
  }
 ],
 "metadata": {
  "kernelspec": {
   "display_name": "Python 3",
   "language": "python",
   "name": "python3"
  },
  "language_info": {
   "codemirror_mode": {
    "name": "ipython",
    "version": 3
   },
   "file_extension": ".py",
   "mimetype": "text/x-python",
   "name": "python",
   "nbconvert_exporter": "python",
   "pygments_lexer": "ipython3",
   "version": "3.12.3"
  }
 },
 "nbformat": 4,
 "nbformat_minor": 2
}

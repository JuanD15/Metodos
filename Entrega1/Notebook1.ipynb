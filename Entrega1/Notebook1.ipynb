{
 "cells": [
  {
   "cell_type": "markdown",
   "metadata": {},
   "source": [
    "### Crear algoritmo recursivo para el calculo con el metodo de punto fijo"
   ]
  },
  {
   "cell_type": "markdown",
   "metadata": {},
   "source": [
    "Ejemplo de un resultado"
   ]
  },
  {
   "cell_type": "code",
   "execution_count": 4,
   "metadata": {},
   "outputs": [
    {
     "name": "stdout",
     "output_type": "stream",
     "text": [
      "La solución aproximada es x = 0.567242\n"
     ]
    }
   ],
   "source": [
    "#import numpy as np\n",
    "import math as ma\n",
    "\n",
    "def punto_fijo(gx, a, ErrorFinal, iteramax=15):\n",
    "    i = 1\n",
    "    b = gx(a)\n",
    "    Eaprox = abs(b - a)\n",
    "    Erelat = abs(b - a)/a\n",
    "\n",
    "    while Erelat >= ErrorFinal and i <= iteramax:\n",
    "        a = b\n",
    "        b = gx(a)\n",
    "        tramo = abs(b - a)\n",
    "        i += 1\n",
    "\n",
    "    return b\n",
    "\n",
    "# Ejemplo de uso\n",
    "gx = lambda x: ma.exp(-x)\n",
    "a = 2\n",
    "ErrorFinal = 0.001\n",
    "resultado = punto_fijo(gx, a, ErrorFinal)\n",
    "print(f\"La solución aproximada es x = {resultado:.6f}\")\n"
   ]
  },
  {
   "cell_type": "markdown",
   "metadata": {},
   "source": [
    "Solución"
   ]
  },
  {
   "cell_type": "code",
   "execution_count": 10,
   "metadata": {},
   "outputs": [
    {
     "name": "stdout",
     "output_type": "stream",
     "text": [
      "||  i   ||   Xi   ||   ErrAprox%   ||   ErrRel%   ||\n",
      "------------------------------------------------------\n",
      "||  0  ||  30.0  ||  25.817  ||  0.861  ||\n",
      "||  1  ||  4.183  ||  2.04  ||  0.488  ||\n",
      "||  2  ||  2.143  ||  0.253  ||  0.118  ||\n",
      "||  3  ||  1.89  ||  0.034  ||  0.018  ||\n",
      "||  4  ||  1.856  ||  0.005  ||  0.003  ||\n",
      "||  5  ||  1.851  ||  0.0  ||  0.0  ||\n",
      "\n"
     ]
    }
   ],
   "source": [
    "# Importacion de librerias necesarias\n",
    "import math as mat\n",
    "\n",
    "# Variables necesarias\n",
    "init = True\n",
    "X0 = 2.000\n",
    "imax = 20\n",
    "ErrStop = 0.001\n",
    "gx = lambda x: mat.sqrt((x + 5) / 2)\n",
    "\n",
    "#Metodo para carlcular el error relativo\n",
    "def ErrRel(Vante, Vactual):\n",
    "    return round(abs(Vactual - Vante)/Vante,3)\n",
    "\n",
    "#Metodo para calcular el error aproximado\n",
    "def ErrAprox(Vante, Vactual):\n",
    "    return round(abs(Vactual - Vante),3)\n",
    "#----------------------------------------------------------------\n",
    "#Calculo con limite de error\n",
    "def LimiErr(X0, ErrStop):\n",
    "    ErrApr =100\n",
    "    i = 0\n",
    "    #Fila inicial\n",
    "    result = \"||  i   ||   Xi   ||   ErrAprox%   ||   ErrRel%   ||\\n\"\n",
    "    result += \"------------------------------------------------------\\n\"\n",
    "    while(ErrApr > ErrStop):\n",
    "        X1 = round(gx(X0),3)\n",
    "        ErrApr = ErrAprox(X0, X1)\n",
    "        ErrRela = ErrRel(X0, X1)\n",
    "        result += f\"||  {i}  ||  {X0}  ||  {ErrApr}  ||  {ErrRela}  ||\\n\"\n",
    "        X0 = X1\n",
    "        i+=1\n",
    "    return result\n",
    "#----------------------------------------------------------------\n",
    "#Calculo con Limite de iteraciones\n",
    "def LimitIteracion(X0, imax):\n",
    "    #Fila inicial\n",
    "    result = \"||  i   ||   Xi   ||   ErrAprox%   ||   ErrRel%   ||\\n\"\n",
    "    result += \"------------------------------------------------------\\n\"\n",
    "    for i in range(0, imax):\n",
    "        X1 = round(gx(X0),3)\n",
    "        ErrApr = ErrAprox(X0, X1)\n",
    "        ErrRela = ErrRel(X0, X1)\n",
    "        result += f\"||  {i}  ||  {X0}  ||  {ErrApr}  ||  {ErrRela}  ||\\n\"\n",
    "        X0 = X1\n",
    "    return result\n",
    "\n",
    "while(init):\n",
    "    option = float(input(\"Ingrese 1 si quiere usar limite por error\\nIngrese 0 si quiere usar limite por iteraciones:\\n\"))\n",
    "    if(option==1):\n",
    "        X0 = float(input(\"Ingrese el X0 para la funcion: \"))\n",
    "        ErrStop = float(input(\"Ingrese el error que quiere usar como limite: \"))\n",
    "        print(LimiErr(X0, ErrStop))\n",
    "        init = False\n",
    "    elif(option==0):\n",
    "        X0 = float(input(\"Ingrese el X0 para la funcion: \"))\n",
    "        imax = int(input(\"Ingrese el numero maximo de iteraciones\"))\n",
    "        print(LimitIteracion(X0, imax))\n",
    "        init = False"
   ]
  },
  {
   "cell_type": "markdown",
   "metadata": {},
   "source": [
    "### Crear un algoritmo para el metodo Newton - Raphson"
   ]
  },
  {
   "cell_type": "markdown",
   "metadata": {},
   "source": [
    "Solución"
   ]
  },
  {
   "cell_type": "code",
   "execution_count": null,
   "metadata": {},
   "outputs": [],
   "source": []
  }
 ],
 "metadata": {
  "kernelspec": {
   "display_name": "Python 3",
   "language": "python",
   "name": "python3"
  },
  "language_info": {
   "codemirror_mode": {
    "name": "ipython",
    "version": 3
   },
   "file_extension": ".py",
   "mimetype": "text/x-python",
   "name": "python",
   "nbconvert_exporter": "python",
   "pygments_lexer": "ipython3",
   "version": "3.12.3"
  }
 },
 "nbformat": 4,
 "nbformat_minor": 2
}

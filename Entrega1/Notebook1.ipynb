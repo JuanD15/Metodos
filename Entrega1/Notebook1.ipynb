{
 "cells": [
  {
   "cell_type": "markdown",
   "metadata": {},
   "source": [
    "### Crear algoritmo recursivo para el calculo con el metodo de punto fijo"
   ]
  },
  {
   "cell_type": "markdown",
   "metadata": {},
   "source": [
    "##### Ejemplo de un resultado"
   ]
  },
  {
   "cell_type": "code",
   "execution_count": 5,
   "metadata": {},
   "outputs": [
    {
     "name": "stdout",
     "output_type": "stream",
     "text": [
      "La solución aproximada es x = 0.567242\n"
     ]
    }
   ],
   "source": [
    "#import numpy as np\n",
    "import math as ma\n",
    "\n",
    "def punto_fijo(gx, a, ErrorFinal, iteramax=15):\n",
    "    i = 1\n",
    "    b = gx(a)\n",
    "    Eaprox = abs(b - a)\n",
    "    Erelat = abs(b - a)/a\n",
    "\n",
    "    while Erelat >= ErrorFinal and i <= iteramax:\n",
    "        a = b\n",
    "        b = gx(a)\n",
    "        tramo = abs(b - a)\n",
    "        i += 1\n",
    "\n",
    "    return b\n",
    "\n",
    "# Ejemplo de uso\n",
    "fx = lambda x: ma.exp(-x)\n",
    "a = 2\n",
    "ErrorFinal = 0.001\n",
    "resultado = punto_fijo(fx, a, ErrorFinal)\n",
    "print(f\"La solución aproximada es x = {resultado:.6f}\")\n"
   ]
  },
  {
   "cell_type": "markdown",
   "metadata": {},
   "source": [
    "##### Leer expresión matematica"
   ]
  },
  {
   "cell_type": "code",
   "execution_count": 19,
   "metadata": {},
   "outputs": [
    {
     "name": "stdout",
     "output_type": "stream",
     "text": [
      "Resultado: 4 y 4\n"
     ]
    }
   ],
   "source": [
    "from sympy.parsing.sympy_parser import parse_expr\n",
    "from sympy import lambdify\n",
    "import sympy\n",
    "\n",
    "\n",
    "fx = input(\"Ingresa una expresión matemática: \")\n",
    "funcion = parse_expr(fx)\n",
    "espress = lambda x: x + 2\n",
    "var = funcion.subs(sympy.Symbol('x'), 2)\n",
    "var2 = espress(2)\n",
    "print(f\"Resultado: {var} y {var2}\")\n"
   ]
  },
  {
   "cell_type": "markdown",
   "metadata": {},
   "source": [
    "Solución"
   ]
  },
  {
   "cell_type": "code",
   "execution_count": 9,
   "metadata": {},
   "outputs": [
    {
     "name": "stdout",
     "output_type": "stream",
     "text": [
      "||  i   ||   Xi   ||   ErrAprox%   ||   ErrRel%   ||\n",
      "------------------------------------------------------\n",
      "||  0  ||  3.0  ||  1.0  ||  0.333  ||\n",
      "||  1  ||  2.0  ||  0.129  ||  0.065  ||\n",
      "||  2  ||  1.871  ||  0.017  ||  0.009  ||\n",
      "||  3  ||  1.854  ||  0.003  ||  0.002  ||\n",
      "\n"
     ]
    }
   ],
   "source": [
    "# Importacion de librerias necesarias\n",
    "import math as mat\n",
    "\n",
    "# Variables necesarias\n",
    "init = True\n",
    "X0 = 2.000\n",
    "imax = 20\n",
    "ErrStop = 0.001\n",
    "gx = lambda x: mat.sqrt((x + 5) / 2)\n",
    "\n",
    "#Metodo para carlcular el error relativo\n",
    "def ErrRel(Vante, Vactual):\n",
    "    return round(abs(Vactual - Vante)/Vante,3)\n",
    "\n",
    "#Metodo para calcular el error aproximado\n",
    "def ErrAprox(Vante, Vactual):\n",
    "    return round(abs(Vactual - Vante),3)\n",
    "#----------------------------------------------------------------\n",
    "#Calculo con limite de error\n",
    "def LimiErr(X0, ErrStop):\n",
    "    ErrApr =100\n",
    "    i = 0\n",
    "    #Fila inicial\n",
    "    result = \"||  i   ||   Xi   ||   ErrAprox%   ||   ErrRel%   ||\\n\"\n",
    "    result += \"------------------------------------------------------\\n\"\n",
    "    while(ErrApr > ErrStop):\n",
    "        X1 = round(gx(X0),3)\n",
    "        ErrApr = ErrAprox(X0, X1)\n",
    "        ErrRela = ErrRel(X0, X1)\n",
    "        result += f\"||  {i}  ||  {X0}  ||  {ErrApr}  ||  {ErrRela}  ||\\n\"\n",
    "        X0 = X1\n",
    "        i+=1\n",
    "    return result\n",
    "#----------------------------------------------------------------\n",
    "#Calculo con Limite de iteraciones\n",
    "def LimitIteracion(X0, imax):\n",
    "    #Fila inicial\n",
    "    result = \"||  i   ||   Xi   ||   ErrAprox%   ||   ErrRel%   ||\\n\"\n",
    "    result += \"------------------------------------------------------\\n\"\n",
    "    for i in range(0, imax):\n",
    "        X1 = round(gx(X0),3)\n",
    "        ErrApr = ErrAprox(X0, X1)\n",
    "        ErrRela = ErrRel(X0, X1)\n",
    "        result += f\"||  {i}  ||  {X0}  ||  {ErrApr}  ||  {ErrRela}  ||\\n\"\n",
    "        X0 = X1\n",
    "    return result\n",
    "\n",
    "while(init):\n",
    "    option = float(input(\"Ingrese 1 si quiere usar limite por error\\nIngrese 0 si quiere usar limite por iteraciones:\\n\"))\n",
    "    if(option==1):\n",
    "        X0 = float(input(\"Ingrese el X0 para la funcion: \"))\n",
    "        ErrStop = float(input(\"Ingrese el error que quiere usar como limite: \"))\n",
    "        print(LimiErr(X0, ErrStop))\n",
    "        init = False\n",
    "    elif(option==0):\n",
    "        X0 = float(input(\"Ingrese el X0 para la funcion: \"))\n",
    "        imax = int(input(\"Ingrese el numero maximo de iteraciones\"))\n",
    "        print(LimitIteracion(X0, imax))\n",
    "        init = False"
   ]
  },
  {
   "cell_type": "markdown",
   "metadata": {},
   "source": [
    "##### Graficar funcion"
   ]
  },
  {
   "cell_type": "code",
   "execution_count": 4,
   "metadata": {},
   "outputs": [
    {
     "ename": "ModuleNotFoundError",
     "evalue": "No module named 'matplotlib'",
     "output_type": "error",
     "traceback": [
      "\u001b[1;31m---------------------------------------------------------------------------\u001b[0m",
      "\u001b[1;31mModuleNotFoundError\u001b[0m                       Traceback (most recent call last)",
      "Cell \u001b[1;32mIn[4], line 1\u001b[0m\n\u001b[1;32m----> 1\u001b[0m \u001b[38;5;28;01mimport\u001b[39;00m \u001b[38;5;21;01mmatplotlib\u001b[39;00m\u001b[38;5;21;01m.\u001b[39;00m\u001b[38;5;21;01mpyplot\u001b[39;00m \u001b[38;5;28;01mas\u001b[39;00m \u001b[38;5;21;01mplt\u001b[39;00m\n\u001b[0;32m      2\u001b[0m \u001b[38;5;28;01mimport\u001b[39;00m \u001b[38;5;21;01mnumpy\u001b[39;00m \u001b[38;5;28;01mas\u001b[39;00m \u001b[38;5;21;01mnp\u001b[39;00m\n\u001b[0;32m      4\u001b[0m \u001b[38;5;66;03m#x = np.arange(0,10,0.1)\u001b[39;00m\n",
      "\u001b[1;31mModuleNotFoundError\u001b[0m: No module named 'matplotlib'"
     ]
    }
   ],
   "source": [
    "import matplotlib.pyplot as plt\n",
    "import numpy as np\n",
    "\n",
    "#x = np.arange(0,10,0.1)\n",
    "y = x*np.cos(x)\n",
    "\n",
    "plt.plot(x,y)\n",
    "plt.xlabel('x')\n",
    "plt.ylabel('y')\n",
    "plt.title('Lab DLS')\n",
    "plt.show()"
   ]
  },
  {
   "cell_type": "markdown",
   "metadata": {},
   "source": [
    "##### Test"
   ]
  },
  {
   "cell_type": "code",
   "execution_count": 16,
   "metadata": {},
   "outputs": [
    {
     "name": "stdout",
     "output_type": "stream",
     "text": [
      "||  i   ||   Xi   ||  Xi+1  ||   ErrAprox%   ||   ErrRel%   ||\n",
      "--------------------------------------------------------------\n",
      "||  0  ||  3.0  ||  3.180791  ||  18.08%  ||  5.68%  ||\n",
      "||  1  ||  3.180791  ||  3.3339592  ||  15.32%  ||  4.59%  ||\n",
      "||  2  ||  3.3339592  ||  3.4425433  ||  10.86%  ||  3.15%  ||\n",
      "||  3  ||  3.4425433  ||  3.50633  ||  6.38%  ||  1.82%  ||\n",
      "||  4  ||  3.50633  ||  3.5382937  ||  3.2%  ||  0.9%  ||\n",
      "||  5  ||  3.5382937  ||  3.5527072  ||  1.44%  ||  0.41%  ||\n",
      "||  6  ||  3.5527072  ||  3.5588481  ||  0.61%  ||  0.17%  ||\n",
      "||  7  ||  3.5588481  ||  3.561396  ||  0.25%  ||  0.07%  ||\n",
      "||  8  ||  3.561396  ||  3.5624411  ||  0.1%  ||  0.03%  ||\n",
      "||  9  ||  3.5624411  ||  3.5628677  ||  0.04%  ||  0.01%  ||\n",
      "||  10  ||  3.5628677  ||  3.5630415  ||  0.02%  ||  0.0%  ||\n",
      "||  11  ||  3.5630415  ||  3.5631123  ||  0.01%  ||  0.0%  ||\n",
      "\n"
     ]
    }
   ],
   "source": [
    "# Importacion de librerias necesarias\n",
    "import math as mat\n",
    "from sympy.parsing.sympy_parser import parse_expr\n",
    "import sympy\n",
    "\n",
    "# Variables necesarias\n",
    "entrada = input(\"Ingrese la funcion iterativa: \")\n",
    "fx = lambdify(sympy.symbols('x'), parse_expr(entrada))\n",
    "#(2*(x)**3 -11.7*(x)**2 -5)/-17.7\n",
    "X0 = float(input(\"Ingrese el X0 para la funcion: \"))\n",
    "rond = int(input(\"Ingrese las cifras deseadas: \"))\n",
    "ErrStop = float(input(\"Ingrese el error que quiere usar como limite: \"))\n",
    "\n",
    "#Metodo para carlcular el error relativo\n",
    "def ErrRel(Vante, Vactual):\n",
    "    return round(abs((Vante - Vactual)/Vactual)*100, 2)\n",
    "\n",
    "#Metodo para calcular el error aproximado\n",
    "def ErrAprox(Vante, Vactual):\n",
    "    return round(abs(Vante - Vactual)*100, 2)\n",
    "#----------------------------------------------------------------\n",
    "#Calculo con limite de error\n",
    "def LimiErr(X0, ErrStop):\n",
    "    ErrApr = 100\n",
    "    i = 0\n",
    "    #Fila inicial\n",
    "    result = \"||  i   ||   Xi   ||  Xi+1  ||   ErrAprox%   ||   ErrRel%   ||\\n\"\n",
    "    result += \"--------------------------------------------------------------\\n\"\n",
    "    while(ErrApr > ErrStop):\n",
    "        X1 = round(fx(X0), rond)\n",
    "        ErrApr = ErrAprox(X0, X1)\n",
    "        ErrRela = ErrRel(X0, X1)\n",
    "        result += f\"||  {i}  ||  {X0}  ||  {X1}  ||  {ErrApr}%  ||  {ErrRela}%  ||\\n\"\n",
    "        X0 = X1\n",
    "        i += 1\n",
    "    return result\n",
    "#----------------------------------------------------------------\n",
    "print(LimiErr(X0, ErrStop))"
   ]
  },
  {
   "cell_type": "markdown",
   "metadata": {},
   "source": [
    "### Crear un algoritmo para el metodo Newton - Raphson"
   ]
  },
  {
   "cell_type": "markdown",
   "metadata": {},
   "source": [
    "#### Solución"
   ]
  },
  {
   "cell_type": "code",
   "execution_count": 26,
   "metadata": {},
   "outputs": [
    {
     "name": "stdout",
     "output_type": "stream",
     "text": [
      "||  i   ||   Xi   ||  Xi+1  ||   ErrAprox%   ||   ErrRel%   ||\n",
      "--------------------------------------------------------------\n",
      "||  0  ||  3.0  ||  5.1333333  ||  213.33%  ||  41.56%  ||\n",
      "||  1  ||  5.1333333  ||  4.2697500  ||  86.36%  ||  20.23%  ||\n",
      "||  2  ||  4.2697500  ||  3.7929344  ||  47.68%  ||  12.57%  ||\n",
      "||  3  ||  3.7929344  ||  3.5998193  ||  19.31%  ||  5.36%  ||\n",
      "||  4  ||  3.5998193  ||  3.5643380  ||  3.55%  ||  1.0000000%  ||\n",
      "||  5  ||  3.5643380  ||  3.5631621  ||  0.12%  ||  0.03%  ||\n",
      "||  6  ||  3.5631621  ||  3.5631608  ||  0.0%  ||  0.0%  ||\n",
      "\n"
     ]
    }
   ],
   "source": [
    "from sympy.parsing.sympy_parser import parse_expr\n",
    "import sympy as sp\n",
    "\n",
    "#Variables necesarias\n",
    "x = sp.symbols('x')\n",
    "inp = input(\"Ingrese la funcion iterativa: \")\n",
    "funcion = parse_expr(inp)\n",
    "#2*(x)**3 -11.7*(x)**2 +17.7*(x) -5\n",
    "derivada = sp.diff(funcion, x)\n",
    "X0 = float(input(\"Ingrese el X0 para la funcion: \"))\n",
    "rond = int(input(\"Ingrese las cifras deseadas: \"))\n",
    "ErrStop = float(input(\"Ingrese el error que quiere usar como limite: \"))\n",
    "\n",
    "#Metodo para carlcular el error relativo\n",
    "def ErrRel(Vante, Vactual):\n",
    "    return round(abs((Vante - Vactual)/Vactual)*100, 2)\n",
    "\n",
    "#Metodo para calcular el error aproximado\n",
    "def ErrAprox(Vante, Vactual):\n",
    "    return round(abs(Vante - Vactual)*100, 2)\n",
    "\n",
    "#Calculo limite de error Newton - Raphson\n",
    "def NewtonRaphson(X0, ErrStop):\n",
    "    ErrApr = 100\n",
    "    i = 0\n",
    "    #Fila Inicial\n",
    "    result = \"||  i   ||   Xi   ||  Xi+1  ||   ErrAprox%   ||   ErrRel%   ||\\n\"\n",
    "    result += \"--------------------------------------------------------------\\n\"\n",
    "    while(ErrApr > ErrStop):\n",
    "        fXi = round(funcion.subs(x, X0), rond)\n",
    "        gXi = round(derivada.subs(x, X0), rond)\n",
    "        X1 = round(X0 - (fXi / gXi), rond)\n",
    "        ErrApr = ErrAprox(X0, X1)\n",
    "        ErrRela = ErrRel(X0, X1)\n",
    "        result += f\"||  {i}  ||  {X0}  ||  {X1}  ||  {ErrApr}%  ||  {ErrRela}%  ||\\n\"\n",
    "        X0 = X1\n",
    "        i += 1\n",
    "    return result\n",
    "print(NewtonRaphson(X0, ErrStop))"
   ]
  }
 ],
 "metadata": {
  "kernelspec": {
   "display_name": "Python 3",
   "language": "python",
   "name": "python3"
  },
  "language_info": {
   "codemirror_mode": {
    "name": "ipython",
    "version": 3
   },
   "file_extension": ".py",
   "mimetype": "text/x-python",
   "name": "python",
   "nbconvert_exporter": "python",
   "pygments_lexer": "ipython3",
   "version": "3.12.3"
  }
 },
 "nbformat": 4,
 "nbformat_minor": 2
}
